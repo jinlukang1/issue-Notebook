{
 "cells": [
  {
   "cell_type": "code",
   "execution_count": null,
   "metadata": {
    "code_folding": []
   },
   "outputs": [],
   "source": [
    "#coding=utf-8\n",
    "import cv2\n",
    "import torch\n",
    "import numpy as np\n",
    "from torch import nn\n",
    "import torchvision as tv \n",
    "from matplotlib import pyplot as plt\n",
    "\n",
    "import unet\n",
    "from utils.converter import float32_to_uint8, uint8_to_float32"
   ]
  },
  {
   "cell_type": "code",
   "execution_count": null,
   "metadata": {
    "code_folding": []
   },
   "outputs": [],
   "source": [
    "class AttackAPI(object):\n",
    "    def __init__(self, model_path=None, with_target=False, num_classes=110):\n",
    "        mean_arr = [0.5, 0.5, 0.5]\n",
    "        stddev_arr = [0.5, 0.5, 0.5]\n",
    "        normalize = tv.transforms.Normalize(mean=mean_arr,\n",
    "                                         std=stddev_arr)\n",
    "\n",
    "        model_dimension = 224\n",
    "        center_crop = 224\n",
    "        self.data_transform = tv.transforms.Compose([\n",
    "            tv.transforms.ToPILImage(), \n",
    "            tv.transforms.Resize(model_dimension),\n",
    "            tv.transforms.CenterCrop(center_crop),\n",
    "            tv.transforms.ToTensor(),\n",
    "            normalize,\n",
    "        ])\n",
    "        if with_target:\n",
    "            self.model = unet.UNet(3, 3 * num_classes, batch_norm=True).cuda()\n",
    "        else:\n",
    "            self.model = unet.UNet(3, 3, batch_norm=True).cuda()\n",
    "            \n",
    "        if model_path is not None:\n",
    "            self.model.load_state_dict(torch.load(model_path))\n",
    "        self.model.eval()\n",
    "        \n",
    "    def __call__(self, img, target=None):\n",
    "        with torch.no_grad():\n",
    "            x = self.data_transform(img).unsqueeze(0).cuda()\n",
    "            n, c, h, w = x.shape\n",
    "            noise = self.model(x)\n",
    "            if target is not None:\n",
    "                noise = noise.view(n, -1, c, h, w)\n",
    "                noise = noise[0, target]\n",
    "            x = x + noise\n",
    "            x = float32_to_uint8(x)\n",
    "            x = torch.clamp(x, min=0, max=255).cpu().squeeze().numpy()\n",
    "        return np.transpose(x, (1, 2, 0)).astype(np.uint8)"
   ]
  },
  {
   "cell_type": "code",
   "execution_count": null,
   "metadata": {},
   "outputs": [],
   "source": [
    "attach_api = AttackAPI('saved_models/best_model: UNet, with_target: False, beta: 8.pt', False)\n",
    "target = None\n",
    "img = plt.imread('dev_data/eef26abf-08be-4754-8421-57f5193d3854.png')\n",
    "img = (img * 255).astype(np.uint8)\n",
    "noise_img = attach_api(img, target)"
   ]
  },
  {
   "cell_type": "code",
   "execution_count": null,
   "metadata": {},
   "outputs": [],
   "source": [
    "plt.imshow(noise_img)"
   ]
  }
 ],
 "metadata": {
  "kernelspec": {
   "display_name": "Python 3",
   "language": "python",
   "name": "python3"
  },
  "language_info": {
   "codemirror_mode": {
    "name": "ipython",
    "version": 3
   },
   "file_extension": ".py",
   "mimetype": "text/x-python",
   "name": "python",
   "nbconvert_exporter": "python",
   "pygments_lexer": "ipython3",
   "version": "3.6.8"
  }
 },
 "nbformat": 4,
 "nbformat_minor": 2
}
